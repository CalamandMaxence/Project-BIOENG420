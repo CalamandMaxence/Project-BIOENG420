{
 "cells": [
  {
   "cell_type": "markdown",
   "metadata": {},
   "source": []
  },
  {
   "cell_type": "markdown",
   "metadata": {},
   "source": [
    "## Final Outcome: \n",
    "1. How many cell-types are in your dataset?\n",
    "2. Which marker genes characterize the cell-types?\n",
    "3. What cell-types are likely present?\n",
    "\n",
    "#### Make sure to include:\n",
    "1. Dataset details (nb cells, nb detected genes, qc plots such as boxplot of avg. nb of genes expressed per cell, …)\n",
    "2. Results (answering the main questions, include standard plots to visualize your results (t-SNE, UMAP, clustering, expression of marker genes, …)"
   ]
  },
  {
   "cell_type": "code",
   "execution_count": 1,
   "metadata": {},
   "outputs": [],
   "source": [
    "import numpy as np\n",
    "import pandas as pd\n",
    "import scanpy as sc\n",
    "import seaborn as sns\n",
    "from scipy.stats import median_abs_deviation\n",
    "import warnings\n",
    "warnings.filterwarnings(\"ignore\")"
   ]
  },
  {
   "cell_type": "markdown",
   "metadata": {},
   "source": [
    "## Importing data"
   ]
  },
  {
   "cell_type": "code",
   "execution_count": null,
   "metadata": {},
   "outputs": [],
   "source": [
    "sc.settings.verbosity = 3\n",
    "\n",
    "df = pd.read_csv(\"../7_ovary.tsv\",sep=\"\\t\",header=None)\n",
    "df.set_index(df.columns[0],inplace=True)\n",
    "\n",
    "adata = sc.AnnData(df.T)\n",
    "adata"
   ]
  },
  {
   "cell_type": "markdown",
   "metadata": {},
   "source": [
    "the dataset has the shape barcodes (cells) x number of transcripts"
   ]
  },
  {
   "cell_type": "markdown",
   "metadata": {},
   "source": [
    "## Quality Control Analysis\n",
    "#### QC = Quality control analysis\n",
    "1. The number of counts per barcode (count depth)\n",
    "2. The number of genes per barcode \n",
    "3. THe fraction of counts from mitochondrial genes per barcode. \n",
    "\n",
    "\n",
    "Low quality cells might show a low count depth, few detected genes and a high fraction of mitochondrial reads. Important to consider 3 QC covariates jointly. Similar to [Germain et al., 2020], we mark cells as outliers if they differ by 5 MADs which is a relatively permissive filtering strategy. We want to highlight that it might be reasonable to re-assess the filtering after annotation of cells. \n",
    "\n",
    " Usually, studies us data-agnostic QC filters, set at 5-10% for fraction of mitochondrial reads, 500 for gene complexity. "
   ]
  },
  {
   "cell_type": "markdown",
   "metadata": {},
   "source": [
    "Ref: \n",
    "1. Subramanian, A., Alperovich, M., Yang, Y. et al. Biology-inspired data-driven quality control for scientific discovery in single-cell transcriptomics. Genome Biol 23, 267 (2022). https://doi.org/10.1186/s13059-022-02820-w\n",
    "2. https://www.sc-best-practices.org\n"
   ]
  },
  {
   "cell_type": "code",
   "execution_count": null,
   "metadata": {},
   "outputs": [],
   "source": [
    "#QC \n",
    "adata.var['mt'] = adata.var_names.str.startswith('mt:')  # annotate the group of mitochondrial genes as 'mt'\n",
    "# ribosomal genes\n",
    "adata.var[\"ribo\"] = adata.var_names.str.startswith((\"RPS\", \"RPL\"))\n",
    "sc.pp.calculate_qc_metrics(adata, qc_vars=['mt','ribo'], percent_top=[20], log1p=True, inplace=True)"
   ]
  },
  {
   "cell_type": "code",
   "execution_count": null,
   "metadata": {},
   "outputs": [],
   "source": [
    "sc.pl.violin(adata, ['n_genes_by_counts', 'total_counts', 'pct_counts_mt'],\n",
    "             jitter=0.4, multi_panel=True)"
   ]
  },
  {
   "cell_type": "markdown",
   "metadata": {},
   "source": [
    "1. n_genes_by_counts: number of genes with positive counts in a cell\n",
    "2. total_counts: total number of counts for a cell = library size \n",
    "3. pct_counts_mt: proportion of total counts for a cell which are mitochondrial "
   ]
  },
  {
   "cell_type": "code",
   "execution_count": null,
   "metadata": {},
   "outputs": [],
   "source": [
    "sns.displot(adata.obs[\"total_counts\"], bins=100, kde=False)"
   ]
  },
  {
   "cell_type": "markdown",
   "metadata": {},
   "source": [
    "Power-law distribution. The majority of cells have <2500 counts "
   ]
  },
  {
   "cell_type": "code",
   "execution_count": null,
   "metadata": {},
   "outputs": [],
   "source": [
    "sc.pl.scatter(adata, \"total_counts\", \"n_genes_by_counts\", color=\"pct_counts_mt\")"
   ]
  },
  {
   "cell_type": "markdown",
   "metadata": {},
   "source": [
    "Low complexity of genes and high mitochondrial read content have been used as a proxy for identifying poor-quality cells . High gene complexity has been used as a proxy for doublets or multiplets in droplet-based sequencing."
   ]
  },
  {
   "cell_type": "markdown",
   "metadata": {},
   "source": [
    "### Identifiying Outliers\n",
    "\n",
    "Because we don't want to filter out too much, we first perform a basic qc with high quality cells defined as >= 100 genes, >= 3 cells <= 80% mito. We will calculate median absolute deviation (MAD) based thresholds after dimensionality reduction and clustering for each cluster"
   ]
  },
  {
   "cell_type": "code",
   "execution_count": null,
   "metadata": {},
   "outputs": [],
   "source": [
    "sc.pp.filter_cells(adata, min_genes=100)\n",
    "sc.pp.filter_genes(adata, min_cells=3)\n",
    "adata = adata[adata.obs[\"pct_counts_mt\"] <= 1, :]\n",
    "\n",
    "sc.pl.scatter(adata, \"total_counts\", \"n_genes_by_counts\", color=\"pct_counts_mt\")"
   ]
  },
  {
   "cell_type": "markdown",
   "metadata": {},
   "source": [
    "### Normalization \n",
    "Normalize the feature expression measurements for each cell by the total expression, multiply by a scale factor (10,000) and log-transfrom the result to get log(TPX + 1) values"
   ]
  },
  {
   "cell_type": "code",
   "execution_count": null,
   "metadata": {},
   "outputs": [],
   "source": [
    "sc.pp.normalize_total(adata, target_sum=1e4)\n",
    "\n",
    "sc.pp.log1p(adata)\n",
    "\n",
    "sc.pp.highly_variable_genes(adata, flavor='seurat', n_top_genes=2000)\n",
    "sc.pl.highly_variable_genes(adata)"
   ]
  },
  {
   "cell_type": "markdown",
   "metadata": {},
   "source": [
    "insert analysis of the plot"
   ]
  },
  {
   "cell_type": "code",
   "execution_count": null,
   "metadata": {},
   "outputs": [],
   "source": [
    "sc.pl.highest_expr_genes(adata, n_top=20)"
   ]
  },
  {
   "cell_type": "markdown",
   "metadata": {},
   "source": [
    "insert analysis of the plot"
   ]
  },
  {
   "cell_type": "markdown",
   "metadata": {},
   "source": [
    "## Dimension Reduction"
   ]
  },
  {
   "cell_type": "markdown",
   "metadata": {},
   "source": [
    "### PCA"
   ]
  },
  {
   "cell_type": "code",
   "execution_count": null,
   "metadata": {},
   "outputs": [],
   "source": [
    "sc.tl.pca(adata, svd_solver='arpack', use_highly_variable=True)\n",
    "sc.pl.pca(adata,color=['log1p_total_counts','log1p_total_counts_mt'])\n",
    "\n",
    "sc.pl.pca_variance_ratio(adata, log=True)"
   ]
  },
  {
   "cell_type": "markdown",
   "metadata": {},
   "source": [
    "### UMAP"
   ]
  },
  {
   "cell_type": "code",
   "execution_count": null,
   "metadata": {},
   "outputs": [],
   "source": [
    "sc.pp.neighbors(adata)\n",
    "\n",
    "sc.tl.umap(adata)\n",
    "sc.pl.umap(adata, color=['log1p_total_counts','log1p_n_genes_by_counts','pct_counts_mt'])"
   ]
  },
  {
   "cell_type": "markdown",
   "metadata": {},
   "source": [
    "### Clustering"
   ]
  },
  {
   "cell_type": "code",
   "execution_count": null,
   "metadata": {},
   "outputs": [],
   "source": [
    "sc.tl.leiden(adata, key_added=\"leiden_res0_5\", resolution=0.5)\n",
    "sc.tl.leiden(adata, key_added=\"leiden_res1\", resolution=1.0)\n",
    "sc.tl.leiden(adata, key_added=\"leiden_res2\", resolution=2)\n",
    "\n",
    "sc.pl.umap(adata, color=[\"leiden_res0_5\", \"leiden_res1\",\"leiden_res2\"],legend_loc=\"on data\",)"
   ]
  },
  {
   "cell_type": "markdown",
   "metadata": {},
   "source": [
    "QC on clusters "
   ]
  },
  {
   "cell_type": "markdown",
   "metadata": {},
   "source": [
    "## Cell annotation"
   ]
  },
  {
   "cell_type": "markdown",
   "metadata": {},
   "source": [
    "### Differential expression analysis"
   ]
  },
  {
   "cell_type": "code",
   "execution_count": null,
   "metadata": {},
   "outputs": [],
   "source": [
    "#calculate the differentially expressed genes for every cluster, compared to the rest of the cells in our adata \n",
    "sc.tl.rank_genes_groups(adata, groupby=\"leiden_res1\", method=\"t-test\", key_added=\"dea_leiden_1\")\n",
    "\n",
    "#Visualize:\n",
    "sc.pl.rank_genes_groups_dotplot(adata, groupby=\"leiden_res1\", standard_scale=\"var\", n_genes=5, key=\"dea_leiden_1\")"
   ]
  },
  {
   "cell_type": "code",
   "execution_count": null,
   "metadata": {},
   "outputs": [],
   "source": [
    "# filter the differentially expressed genes to select for more cluster-specific differentially expressed genes:\n",
    "sc.tl.filter_rank_genes_groups(adata, key=\"dea_leiden_1\", min_in_group_fraction=0.2, max_out_group_fraction=0.2, key_added=\"dea_leiden_1_filtered\")\n",
    "\n",
    "#Visualise: \n",
    "sc.pl.rank_genes_groups_dotplot(adata, groupby=\"leiden_res1\", standard_scale=\"var\", n_genes=5, key=\"dea_leiden_1_filtered\")"
   ]
  },
  {
   "cell_type": "code",
   "execution_count": null,
   "metadata": {},
   "outputs": [],
   "source": [
    "markers = pd.DataFrame(adata.uns[\"dea_leiden_1_filtered\"][\"names\"])"
   ]
  },
  {
   "cell_type": "markdown",
   "metadata": {},
   "source": [
    "### Identify cell types\n",
    "Use the Fly Cell Atlas ovaries dataset: https://flycellatlas.ds.czbiohub.org/ovary/"
   ]
  },
  {
   "cell_type": "code",
   "execution_count": null,
   "metadata": {},
   "outputs": [],
   "source": [
    "for col in markers.columns :\n",
    "    markers_genes = markers[col].dropna().tolist()[:10]\n",
    "    sc.pl.umap(adata, color=[j for j in markers_genes ])"
   ]
  },
  {
   "cell_type": "markdown",
   "metadata": {},
   "source": [
    "nbr types\n",
    "marker genes characterizing\n"
   ]
  }
 ],
 "metadata": {
  "kernelspec": {
   "display_name": "Python 3",
   "language": "python",
   "name": "python3"
  },
  "language_info": {
   "codemirror_mode": {
    "name": "ipython",
    "version": 3
   },
   "file_extension": ".py",
   "mimetype": "text/x-python",
   "name": "python",
   "nbconvert_exporter": "python",
   "pygments_lexer": "ipython3",
   "version": "3.8.8"
  }
 },
 "nbformat": 4,
 "nbformat_minor": 2
}
